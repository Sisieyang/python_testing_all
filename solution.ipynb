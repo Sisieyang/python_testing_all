{
 "cells": [
  {
   "cell_type": "code",
   "execution_count": 163,
   "metadata": {
    "collapsed": false
   },
   "outputs": [
    {
     "data": {
      "text/html": [
       "<table class=\"simpletable\">\n",
       "<caption>OLS Regression Results</caption>\n",
       "<tr>\n",
       "  <th>Dep. Variable:</th>            <td>y</td>        <th>  R-squared:         </th> <td>   0.852</td>\n",
       "</tr>\n",
       "<tr>\n",
       "  <th>Model:</th>                   <td>OLS</td>       <th>  Adj. R-squared:    </th> <td>   0.851</td>\n",
       "</tr>\n",
       "<tr>\n",
       "  <th>Method:</th>             <td>Least Squares</td>  <th>  F-statistic:       </th> <td>   810.5</td>\n",
       "</tr>\n",
       "<tr>\n",
       "  <th>Date:</th>             <td>Sat, 09 May 2015</td> <th>  Prob (F-statistic):</th> <td>2.52e-60</td>\n",
       "</tr>\n",
       "<tr>\n",
       "  <th>Time:</th>                 <td>18:40:28</td>     <th>  Log-Likelihood:    </th> <td> -749.96</td>\n",
       "</tr>\n",
       "<tr>\n",
       "  <th>No. Observations:</th>      <td>   143</td>      <th>  AIC:               </th> <td>   1504.</td>\n",
       "</tr>\n",
       "<tr>\n",
       "  <th>Df Residuals:</th>          <td>   141</td>      <th>  BIC:               </th> <td>   1510.</td>\n",
       "</tr>\n",
       "<tr>\n",
       "  <th>Df Model:</th>              <td>     1</td>      <th>                     </th>     <td> </td>   \n",
       "</tr>\n",
       "<tr>\n",
       "  <th>Covariance Type:</th>      <td>nonrobust</td>    <th>                     </th>     <td> </td>   \n",
       "</tr>\n",
       "</table>\n",
       "<table class=\"simpletable\">\n",
       "<tr>\n",
       "    <td></td>       <th>coef</th>     <th>std err</th>      <th>t</th>      <th>P>|t|</th> <th>[95.0% Conf. Int.]</th> \n",
       "</tr>\n",
       "<tr>\n",
       "  <th>const</th> <td>-6.221e+04</td> <td> 2194.869</td> <td>  -28.342</td> <td> 0.000</td> <td>-6.65e+04 -5.79e+04</td>\n",
       "</tr>\n",
       "<tr>\n",
       "  <th>x1</th>    <td>   31.9631</td> <td>    1.123</td> <td>   28.470</td> <td> 0.000</td> <td>   29.744    34.183</td>\n",
       "</tr>\n",
       "</table>\n",
       "<table class=\"simpletable\">\n",
       "<tr>\n",
       "  <th>Omnibus:</th>       <td>24.141</td> <th>  Durbin-Watson:     </th> <td>   0.538</td>\n",
       "</tr>\n",
       "<tr>\n",
       "  <th>Prob(Omnibus):</th> <td> 0.000</td> <th>  Jarque-Bera (JB):  </th> <td>  32.823</td>\n",
       "</tr>\n",
       "<tr>\n",
       "  <th>Skew:</th>          <td> 0.935</td> <th>  Prob(JB):          </th> <td>7.46e-08</td>\n",
       "</tr>\n",
       "<tr>\n",
       "  <th>Kurtosis:</th>      <td> 4.419</td> <th>  Cond. No.          </th> <td>1.11e+06</td>\n",
       "</tr>\n",
       "</table>"
      ],
      "text/plain": [
       "<class 'statsmodels.iolib.summary.Summary'>\n",
       "\"\"\"\n",
       "                            OLS Regression Results                            \n",
       "==============================================================================\n",
       "Dep. Variable:                      y   R-squared:                       0.852\n",
       "Model:                            OLS   Adj. R-squared:                  0.851\n",
       "Method:                 Least Squares   F-statistic:                     810.5\n",
       "Date:                Sat, 09 May 2015   Prob (F-statistic):           2.52e-60\n",
       "Time:                        18:40:28   Log-Likelihood:                -749.96\n",
       "No. Observations:                 143   AIC:                             1504.\n",
       "Df Residuals:                     141   BIC:                             1510.\n",
       "Df Model:                           1                                         \n",
       "Covariance Type:            nonrobust                                         \n",
       "==============================================================================\n",
       "                 coef    std err          t      P>|t|      [95.0% Conf. Int.]\n",
       "------------------------------------------------------------------------------\n",
       "const      -6.221e+04   2194.869    -28.342      0.000     -6.65e+04 -5.79e+04\n",
       "x1            31.9631      1.123     28.470      0.000        29.744    34.183\n",
       "==============================================================================\n",
       "Omnibus:                       24.141   Durbin-Watson:                   0.538\n",
       "Prob(Omnibus):                  0.000   Jarque-Bera (JB):               32.823\n",
       "Skew:                           0.935   Prob(JB):                     7.46e-08\n",
       "Kurtosis:                       4.419   Cond. No.                     1.11e+06\n",
       "==============================================================================\n",
       "\n",
       "Warnings:\n",
       "[1] Standard Errors assume that the covariance matrix of the errors is correctly specified.\n",
       "[2] The condition number is large, 1.11e+06. This might indicate that there are\n",
       "strong multicollinearity or other numerical problems.\n",
       "\"\"\""
      ]
     },
     "execution_count": 163,
     "metadata": {},
     "output_type": "execute_result"
    }
   ],
   "source": [
    "import numpy as np\n",
    "import statsmodels.api as sm\n",
    "from bokeh.plotting import figure, output_file, show\n",
    "def solution():\n",
    "    f=open(\"AirPassengers.csv\",'r')\n",
    "    text=f.readlines()[2:]\n",
    "    X=[]\n",
    "    Y=[]\n",
    "    for line in text:\n",
    "        X.append(float(line.split(\",\")[1]))\n",
    "        Y.append(float(line[:-1].split(\",\")[2]))\n",
    "        \n",
    "    output_file(\"lines.html\", title=\"line plot example\")\n",
    "    \n",
    "    plot = figure(title=\"OLS plots\",x_axis_label='time', y_axis_label='AirPassengers',width=800, height=700)\n",
    "    plot.circle(X,Y,radius=0.05, size=20)\n",
    "\n",
    "    X2=sm.add_constant(X)\n",
    "    model=sm.OLS(Y,X2)\n",
    "    results=model.fit()\n",
    "    \n",
    "    plot.line(X,results.predict(),legend=\"AirPassengers=\"+str(int(results.params[1]))+\"*time\"+str(int(results.params[0])),line_color=\"red\",line_width=3)\n",
    "    show(plot)\n",
    "    return results.summary()\n",
    "solution()"
   ]
  },
  {
   "cell_type": "code",
   "execution_count": null,
   "metadata": {
    "collapsed": true
   },
   "outputs": [],
   "source": []
  }
 ],
 "metadata": {
  "kernelspec": {
   "display_name": "Python 2",
   "language": "python",
   "name": "python2"
  },
  "language_info": {
   "codemirror_mode": {
    "name": "ipython",
    "version": 2
   },
   "file_extension": ".py",
   "mimetype": "text/x-python",
   "name": "python",
   "nbconvert_exporter": "python",
   "pygments_lexer": "ipython2",
   "version": "2.7.9"
  }
 },
 "nbformat": 4,
 "nbformat_minor": 0
}
